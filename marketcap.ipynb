{
 "cells": [
  {
   "cell_type": "code",
   "execution_count": 1,
   "metadata": {},
   "outputs": [],
   "source": [
    "import requests\n",
    "import pandas as pd\n",
    "\n",
    "url = 'https://companiesmarketcap.com/'\n",
    "\n",
    "header = {\n",
    "  \"User-Agent\": \"Mozilla/5.0 (X11; Linux x86_64) AppleWebKit/537.36 (KHTML, like Gecko) Chrome/50.0.2661.75 Safari/537.36\",\n",
    "  \"X-Requested-With\": \"XMLHttpRequest\"\n",
    "}\n",
    "\n",
    "r = requests.get(url, headers=header)\n",
    "\n",
    "dfs = pd.read_html(r.text)"
   ]
  },
  {
   "cell_type": "code",
   "execution_count": 144,
   "metadata": {},
   "outputs": [
    {
     "data": {
      "text/html": [
       "<div>\n",
       "<style scoped>\n",
       "    .dataframe tbody tr th:only-of-type {\n",
       "        vertical-align: middle;\n",
       "    }\n",
       "\n",
       "    .dataframe tbody tr th {\n",
       "        vertical-align: top;\n",
       "    }\n",
       "\n",
       "    .dataframe thead th {\n",
       "        text-align: right;\n",
       "    }\n",
       "</style>\n",
       "<table border=\"1\" class=\"dataframe\">\n",
       "  <thead>\n",
       "    <tr style=\"text-align: right;\">\n",
       "      <th></th>\n",
       "      <th>Rank</th>\n",
       "      <th>Name</th>\n",
       "      <th>Market Cap</th>\n",
       "      <th>Price</th>\n",
       "      <th>Today</th>\n",
       "      <th>Price (30 days)</th>\n",
       "      <th>Country</th>\n",
       "    </tr>\n",
       "  </thead>\n",
       "  <tbody>\n",
       "    <tr>\n",
       "      <td>0</td>\n",
       "      <td>1</td>\n",
       "      <td>Apple AAPL</td>\n",
       "      <td>$2.415 T</td>\n",
       "      <td>$149.24</td>\n",
       "      <td>2.54%</td>\n",
       "      <td>NaN</td>\n",
       "      <td>🇺🇸 USA</td>\n",
       "    </tr>\n",
       "    <tr>\n",
       "      <td>1</td>\n",
       "      <td>2</td>\n",
       "      <td>Saudi Aramco 2222.SR</td>\n",
       "      <td>$2.413 T</td>\n",
       "      <td>$10.97</td>\n",
       "      <td>0.12%</td>\n",
       "      <td>NaN</td>\n",
       "      <td>🇸🇦 S. Arabia</td>\n",
       "    </tr>\n",
       "    <tr>\n",
       "      <td>2</td>\n",
       "      <td>3</td>\n",
       "      <td>Microsoft MSFT</td>\n",
       "      <td>$1.995 T</td>\n",
       "      <td>$266.82</td>\n",
       "      <td>2.03%</td>\n",
       "      <td>NaN</td>\n",
       "      <td>🇺🇸 USA</td>\n",
       "    </tr>\n",
       "    <tr>\n",
       "      <td>3</td>\n",
       "      <td>4</td>\n",
       "      <td>Alphabet (Google) GOOG</td>\n",
       "      <td>$1.534 T</td>\n",
       "      <td>$2,334</td>\n",
       "      <td>1.66%</td>\n",
       "      <td>NaN</td>\n",
       "      <td>🇺🇸 USA</td>\n",
       "    </tr>\n",
       "    <tr>\n",
       "      <td>4</td>\n",
       "      <td>5</td>\n",
       "      <td>Amazon AMZN</td>\n",
       "      <td>$1.173 T</td>\n",
       "      <td>$2,307</td>\n",
       "      <td>4.11%</td>\n",
       "      <td>NaN</td>\n",
       "      <td>🇺🇸 USA</td>\n",
       "    </tr>\n",
       "  </tbody>\n",
       "</table>\n",
       "</div>"
      ],
      "text/plain": [
       "   Rank                    Name Market Cap    Price  Today  Price (30 days)  \\\n",
       "0     1              Apple AAPL   $2.415 T  $149.24  2.54%              NaN   \n",
       "1     2    Saudi Aramco 2222.SR   $2.413 T   $10.97  0.12%              NaN   \n",
       "2     3          Microsoft MSFT   $1.995 T  $266.82  2.03%              NaN   \n",
       "3     4  Alphabet (Google) GOOG   $1.534 T   $2,334  1.66%              NaN   \n",
       "4     5             Amazon AMZN   $1.173 T   $2,307  4.11%              NaN   \n",
       "\n",
       "        Country  \n",
       "0        🇺🇸 USA  \n",
       "1  🇸🇦 S. Arabia  \n",
       "2        🇺🇸 USA  \n",
       "3        🇺🇸 USA  \n",
       "4        🇺🇸 USA  "
      ]
     },
     "execution_count": 144,
     "metadata": {},
     "output_type": "execute_result"
    }
   ],
   "source": [
    "df = dfs[0][:50]\n",
    "df.head()"
   ]
  },
  {
   "cell_type": "code",
   "execution_count": 145,
   "metadata": {},
   "outputs": [
    {
     "data": {
      "text/plain": [
       "Rank                 int64\n",
       "Name                object\n",
       "Market Cap          object\n",
       "Price               object\n",
       "Today               object\n",
       "Price (30 days)    float64\n",
       "Country             object\n",
       "dtype: object"
      ]
     },
     "execution_count": 145,
     "metadata": {},
     "output_type": "execute_result"
    }
   ],
   "source": [
    "df.dtypes\n"
   ]
  },
  {
   "cell_type": "markdown",
   "metadata": {},
   "source": [
    "### write a function to deal with the inconsistency of Market Cap unit"
   ]
  },
  {
   "cell_type": "code",
   "execution_count": 146,
   "metadata": {},
   "outputs": [],
   "source": [
    "def billion(x):\n",
    "    if x[-1] == 'T':\n",
    "        x1 = x[1:] #拿掉美元符號\n",
    "        x2 = x1[:-1] #拿掉尾巴\n",
    "        return float(x2)*1000\n",
    "    else:\n",
    "        x1 = x[1:]\n",
    "        x2 = x1[:-1]\n",
    "        return float(x2) "
   ]
  },
  {
   "cell_type": "code",
   "execution_count": 147,
   "metadata": {},
   "outputs": [
    {
     "name": "stderr",
     "output_type": "stream",
     "text": [
      "C:\\Users\\HP\\Anaconda3\\lib\\site-packages\\ipykernel_launcher.py:1: SettingWithCopyWarning: \n",
      "A value is trying to be set on a copy of a slice from a DataFrame.\n",
      "Try using .loc[row_indexer,col_indexer] = value instead\n",
      "\n",
      "See the caveats in the documentation: http://pandas.pydata.org/pandas-docs/stable/user_guide/indexing.html#returning-a-view-versus-a-copy\n",
      "  \"\"\"Entry point for launching an IPython kernel.\n",
      "C:\\Users\\HP\\Anaconda3\\lib\\site-packages\\ipykernel_launcher.py:2: SettingWithCopyWarning: \n",
      "A value is trying to be set on a copy of a slice from a DataFrame.\n",
      "Try using .loc[row_indexer,col_indexer] = value instead\n",
      "\n",
      "See the caveats in the documentation: http://pandas.pydata.org/pandas-docs/stable/user_guide/indexing.html#returning-a-view-versus-a-copy\n",
      "  \n",
      "C:\\Users\\HP\\Anaconda3\\lib\\site-packages\\ipykernel_launcher.py:3: SettingWithCopyWarning: \n",
      "A value is trying to be set on a copy of a slice from a DataFrame.\n",
      "Try using .loc[row_indexer,col_indexer] = value instead\n",
      "\n",
      "See the caveats in the documentation: http://pandas.pydata.org/pandas-docs/stable/user_guide/indexing.html#returning-a-view-versus-a-copy\n",
      "  This is separate from the ipykernel package so we can avoid doing imports until\n"
     ]
    },
    {
     "data": {
      "text/html": [
       "<div>\n",
       "<style scoped>\n",
       "    .dataframe tbody tr th:only-of-type {\n",
       "        vertical-align: middle;\n",
       "    }\n",
       "\n",
       "    .dataframe tbody tr th {\n",
       "        vertical-align: top;\n",
       "    }\n",
       "\n",
       "    .dataframe thead th {\n",
       "        text-align: right;\n",
       "    }\n",
       "</style>\n",
       "<table border=\"1\" class=\"dataframe\">\n",
       "  <thead>\n",
       "    <tr style=\"text-align: right;\">\n",
       "      <th></th>\n",
       "      <th>Rank</th>\n",
       "      <th>Name</th>\n",
       "      <th>Market Cap</th>\n",
       "      <th>Price</th>\n",
       "      <th>Today</th>\n",
       "      <th>Price (30 days)</th>\n",
       "      <th>Country</th>\n",
       "      <th>Market Cap(billion)</th>\n",
       "      <th>Price($)</th>\n",
       "    </tr>\n",
       "  </thead>\n",
       "  <tbody>\n",
       "    <tr>\n",
       "      <td>0</td>\n",
       "      <td>1</td>\n",
       "      <td>Apple AAPL</td>\n",
       "      <td>$2.415 T</td>\n",
       "      <td>$149.24</td>\n",
       "      <td>2.54%</td>\n",
       "      <td>NaN</td>\n",
       "      <td>🇺🇸 USA</td>\n",
       "      <td>2415.0</td>\n",
       "      <td>149.24</td>\n",
       "    </tr>\n",
       "    <tr>\n",
       "      <td>1</td>\n",
       "      <td>2</td>\n",
       "      <td>Saudi Aramco 2222.SR</td>\n",
       "      <td>$2.413 T</td>\n",
       "      <td>$10.97</td>\n",
       "      <td>0.12%</td>\n",
       "      <td>NaN</td>\n",
       "      <td>🇸🇦 S. Arabia</td>\n",
       "      <td>2413.0</td>\n",
       "      <td>10.97</td>\n",
       "    </tr>\n",
       "    <tr>\n",
       "      <td>2</td>\n",
       "      <td>3</td>\n",
       "      <td>Microsoft MSFT</td>\n",
       "      <td>$1.995 T</td>\n",
       "      <td>$266.82</td>\n",
       "      <td>2.03%</td>\n",
       "      <td>NaN</td>\n",
       "      <td>🇺🇸 USA</td>\n",
       "      <td>1995.0</td>\n",
       "      <td>266.82</td>\n",
       "    </tr>\n",
       "    <tr>\n",
       "      <td>3</td>\n",
       "      <td>4</td>\n",
       "      <td>Alphabet (Google) GOOG</td>\n",
       "      <td>$1.534 T</td>\n",
       "      <td>$2,334</td>\n",
       "      <td>1.66%</td>\n",
       "      <td>NaN</td>\n",
       "      <td>🇺🇸 USA</td>\n",
       "      <td>1534.0</td>\n",
       "      <td>2,334</td>\n",
       "    </tr>\n",
       "    <tr>\n",
       "      <td>4</td>\n",
       "      <td>5</td>\n",
       "      <td>Amazon AMZN</td>\n",
       "      <td>$1.173 T</td>\n",
       "      <td>$2,307</td>\n",
       "      <td>4.11%</td>\n",
       "      <td>NaN</td>\n",
       "      <td>🇺🇸 USA</td>\n",
       "      <td>1173.0</td>\n",
       "      <td>2,307</td>\n",
       "    </tr>\n",
       "  </tbody>\n",
       "</table>\n",
       "</div>"
      ],
      "text/plain": [
       "   Rank                    Name Market Cap    Price  Today  Price (30 days)  \\\n",
       "0     1              Apple AAPL   $2.415 T  $149.24  2.54%              NaN   \n",
       "1     2    Saudi Aramco 2222.SR   $2.413 T   $10.97  0.12%              NaN   \n",
       "2     3          Microsoft MSFT   $1.995 T  $266.82  2.03%              NaN   \n",
       "3     4  Alphabet (Google) GOOG   $1.534 T   $2,334  1.66%              NaN   \n",
       "4     5             Amazon AMZN   $1.173 T   $2,307  4.11%              NaN   \n",
       "\n",
       "        Country  Market Cap(billion) Price($)  \n",
       "0        🇺🇸 USA               2415.0   149.24  \n",
       "1  🇸🇦 S. Arabia               2413.0    10.97  \n",
       "2        🇺🇸 USA               1995.0   266.82  \n",
       "3        🇺🇸 USA               1534.0    2,334  \n",
       "4        🇺🇸 USA               1173.0    2,307  "
      ]
     },
     "execution_count": 147,
     "metadata": {},
     "output_type": "execute_result"
    }
   ],
   "source": [
    "df['Market Cap(billion)'] = df['Market Cap'].astype('str') #change data type to slice\n",
    "df['Market Cap(billion)'] =df.apply(lambda x: billion(x['Market Cap(billion)']), axis=1)\n",
    "df['Price($)'] = df.apply(lambda x: x['Price'][1:], axis=1)\n",
    "df.head()"
   ]
  },
  {
   "cell_type": "markdown",
   "metadata": {},
   "source": [
    "### seperate name into company name and symbol"
   ]
  },
  {
   "cell_type": "code",
   "execution_count": 7,
   "metadata": {},
   "outputs": [
    {
     "data": {
      "text/plain": [
       "['Saudi', 'Aramco']"
      ]
     },
     "execution_count": 7,
     "metadata": {},
     "output_type": "execute_result"
    }
   ],
   "source": [
    "df['Name'][1].split(' ')[:-1]"
   ]
  },
  {
   "cell_type": "code",
   "execution_count": 8,
   "metadata": {},
   "outputs": [
    {
     "data": {
      "text/plain": [
       "'Saudi Aramco'"
      ]
     },
     "execution_count": 8,
     "metadata": {},
     "output_type": "execute_result"
    }
   ],
   "source": [
    "' '.join(df['Name'][1].split(\" \")[:-1])"
   ]
  },
  {
   "cell_type": "code",
   "execution_count": 140,
   "metadata": {},
   "outputs": [
    {
     "data": {
      "text/html": [
       "<div>\n",
       "<style scoped>\n",
       "    .dataframe tbody tr th:only-of-type {\n",
       "        vertical-align: middle;\n",
       "    }\n",
       "\n",
       "    .dataframe tbody tr th {\n",
       "        vertical-align: top;\n",
       "    }\n",
       "\n",
       "    .dataframe thead th {\n",
       "        text-align: right;\n",
       "    }\n",
       "</style>\n",
       "<table border=\"1\" class=\"dataframe\">\n",
       "  <thead>\n",
       "    <tr style=\"text-align: right;\">\n",
       "      <th></th>\n",
       "      <th>Name</th>\n",
       "      <th>Today</th>\n",
       "      <th>Country</th>\n",
       "      <th>Market Cap(billion)</th>\n",
       "      <th>Price($)</th>\n",
       "      <th>Symbol</th>\n",
       "    </tr>\n",
       "    <tr>\n",
       "      <th>Rank</th>\n",
       "      <th></th>\n",
       "      <th></th>\n",
       "      <th></th>\n",
       "      <th></th>\n",
       "      <th></th>\n",
       "      <th></th>\n",
       "    </tr>\n",
       "  </thead>\n",
       "  <tbody>\n",
       "    <tr>\n",
       "      <td>1</td>\n",
       "      <td>Apple</td>\n",
       "      <td>2.54%</td>\n",
       "      <td>🇺🇸 USA</td>\n",
       "      <td>2415.0</td>\n",
       "      <td>149.24</td>\n",
       "      <td>AAPL</td>\n",
       "    </tr>\n",
       "    <tr>\n",
       "      <td>2</td>\n",
       "      <td>Saudi Aramco</td>\n",
       "      <td>0.12%</td>\n",
       "      <td>🇸🇦 S. Arabia</td>\n",
       "      <td>2413.0</td>\n",
       "      <td>10.97</td>\n",
       "      <td>2222.SR</td>\n",
       "    </tr>\n",
       "    <tr>\n",
       "      <td>3</td>\n",
       "      <td>Microsoft</td>\n",
       "      <td>2.03%</td>\n",
       "      <td>🇺🇸 USA</td>\n",
       "      <td>1995.0</td>\n",
       "      <td>266.82</td>\n",
       "      <td>MSFT</td>\n",
       "    </tr>\n",
       "    <tr>\n",
       "      <td>4</td>\n",
       "      <td>Alphabet (Google)</td>\n",
       "      <td>1.66%</td>\n",
       "      <td>🇺🇸 USA</td>\n",
       "      <td>1534.0</td>\n",
       "      <td>2,334</td>\n",
       "      <td>GOOG</td>\n",
       "    </tr>\n",
       "    <tr>\n",
       "      <td>5</td>\n",
       "      <td>Amazon</td>\n",
       "      <td>4.11%</td>\n",
       "      <td>🇺🇸 USA</td>\n",
       "      <td>1173.0</td>\n",
       "      <td>2,307</td>\n",
       "      <td>AMZN</td>\n",
       "    </tr>\n",
       "  </tbody>\n",
       "</table>\n",
       "</div>"
      ],
      "text/plain": [
       "                   Name  Today       Country  Market Cap(billion) Price($)  \\\n",
       "Rank                                                                         \n",
       "1                 Apple  2.54%        🇺🇸 USA               2415.0   149.24   \n",
       "2          Saudi Aramco  0.12%  🇸🇦 S. Arabia               2413.0    10.97   \n",
       "3             Microsoft  2.03%        🇺🇸 USA               1995.0   266.82   \n",
       "4     Alphabet (Google)  1.66%        🇺🇸 USA               1534.0    2,334   \n",
       "5                Amazon  4.11%        🇺🇸 USA               1173.0    2,307   \n",
       "\n",
       "       Symbol  \n",
       "Rank           \n",
       "1        AAPL  \n",
       "2     2222.SR  \n",
       "3        MSFT  \n",
       "4        GOOG  \n",
       "5        AMZN  "
      ]
     },
     "execution_count": 140,
     "metadata": {},
     "output_type": "execute_result"
    }
   ],
   "source": [
    "df2 = df.drop(columns = ['Price (30 days)','Market Cap','Price','Price'])\n",
    "df_rank = df2.set_index('Rank')\n",
    "df_rank['Symbol'] = df_rank.apply(lambda x: x['Name'].split(\" \")[-1], axis=1)\n",
    "df_rank['Name'] = df_rank.apply(lambda x: ' '.join(x['Name'].split(\" \")[:-1]), axis=1)\n",
    "df_rank.head()"
   ]
  },
  {
   "cell_type": "markdown",
   "metadata": {},
   "source": [
    "### remove the country flag in order to plot "
   ]
  },
  {
   "cell_type": "code",
   "execution_count": 137,
   "metadata": {},
   "outputs": [
    {
     "data": {
      "text/plain": [
       "'USA'"
      ]
     },
     "execution_count": 137,
     "metadata": {},
     "output_type": "execute_result"
    }
   ],
   "source": [
    "df_rank['Country'][1][3:]\n"
   ]
  },
  {
   "cell_type": "code",
   "execution_count": 141,
   "metadata": {},
   "outputs": [
    {
     "data": {
      "text/plain": [
       "Rank\n",
       "3             🇺🇸 USA\n",
       "4             🇺🇸 USA\n",
       "5             🇺🇸 USA\n",
       "6             🇺🇸 USA\n",
       "7             🇺🇸 USA\n",
       "8             🇺🇸 USA\n",
       "9          🇹🇼 Taiwan\n",
       "10            🇺🇸 USA\n",
       "11            🇺🇸 USA\n",
       "12            🇺🇸 USA\n",
       "13          🇨🇳 China\n",
       "14            🇺🇸 USA\n",
       "15            🇺🇸 USA\n",
       "16            🇺🇸 USA\n",
       "17            🇺🇸 USA\n",
       "18       🇰🇷 S. Korea\n",
       "19            🇺🇸 USA\n",
       "20            🇺🇸 USA\n",
       "21    🇨🇭 Switzerland\n",
       "22            🇺🇸 USA\n",
       "23          🇨🇳 China\n",
       "24            🇺🇸 USA\n",
       "25         🇫🇷 France\n",
       "26            🇺🇸 USA\n",
       "27            🇺🇸 USA\n",
       "28            🇺🇸 USA\n",
       "29            🇺🇸 USA\n",
       "30    🇨🇭 Switzerland\n",
       "31            🇺🇸 USA\n",
       "32            🇺🇸 USA\n",
       "33          🇨🇳 China\n",
       "34        🇩🇰 Denmark\n",
       "35            🇺🇸 USA\n",
       "36            🇺🇸 USA\n",
       "37          🇨🇳 China\n",
       "38      🇦🇺 Australia\n",
       "39    🇳🇱 Netherlands\n",
       "40          🇮🇳 India\n",
       "41          🇯🇵 Japan\n",
       "42             🇬🇧 UK\n",
       "43            🇺🇸 USA\n",
       "44            🇺🇸 USA\n",
       "45            🇺🇸 USA\n",
       "46            🇺🇸 USA\n",
       "47             🇬🇧 UK\n",
       "48            🇺🇸 USA\n",
       "49            🇺🇸 USA\n",
       "50            🇺🇸 USA\n",
       "Name: Country, dtype: object"
      ]
     },
     "execution_count": 141,
     "metadata": {},
     "output_type": "execute_result"
    }
   ],
   "source": [
    "df_rank['Country'][2:]"
   ]
  },
  {
   "cell_type": "code",
   "execution_count": null,
   "metadata": {},
   "outputs": [],
   "source": [
    "df_rank['Country'] = df_rank.apply(lambda x :)"
   ]
  },
  {
   "cell_type": "code",
   "execution_count": 94,
   "metadata": {},
   "outputs": [
    {
     "data": {
      "text/html": [
       "<div>\n",
       "<style scoped>\n",
       "    .dataframe tbody tr th:only-of-type {\n",
       "        vertical-align: middle;\n",
       "    }\n",
       "\n",
       "    .dataframe tbody tr th {\n",
       "        vertical-align: top;\n",
       "    }\n",
       "\n",
       "    .dataframe thead th {\n",
       "        text-align: right;\n",
       "    }\n",
       "</style>\n",
       "<table border=\"1\" class=\"dataframe\">\n",
       "  <thead>\n",
       "    <tr style=\"text-align: right;\">\n",
       "      <th></th>\n",
       "      <th>Name</th>\n",
       "      <th>Today</th>\n",
       "      <th>Country</th>\n",
       "      <th>Market Cap(billion)</th>\n",
       "      <th>Price($)</th>\n",
       "      <th>Symbol</th>\n",
       "    </tr>\n",
       "    <tr>\n",
       "      <th>Rank</th>\n",
       "      <th></th>\n",
       "      <th></th>\n",
       "      <th></th>\n",
       "      <th></th>\n",
       "      <th></th>\n",
       "      <th></th>\n",
       "    </tr>\n",
       "  </thead>\n",
       "  <tbody>\n",
       "    <tr>\n",
       "      <td>21</td>\n",
       "      <td>Nestlé</td>\n",
       "      <td>0.11%</td>\n",
       "      <td>🇨🇭 Switzerland</td>\n",
       "      <td>339.29</td>\n",
       "      <td>122.95</td>\n",
       "      <td>NESN.SW</td>\n",
       "    </tr>\n",
       "    <tr>\n",
       "      <td>30</td>\n",
       "      <td>Roche</td>\n",
       "      <td>0.85%</td>\n",
       "      <td>🇨🇭 Switzerland</td>\n",
       "      <td>284.15</td>\n",
       "      <td>325.66</td>\n",
       "      <td>ROG.SW</td>\n",
       "    </tr>\n",
       "  </tbody>\n",
       "</table>\n",
       "</div>"
      ],
      "text/plain": [
       "        Name  Today         Country  Market Cap(billion) Price($)   Symbol\n",
       "Rank                                                                      \n",
       "21    Nestlé  0.11%  🇨🇭 Switzerland               339.29   122.95  NESN.SW\n",
       "30     Roche  0.85%  🇨🇭 Switzerland               284.15   325.66   ROG.SW"
      ]
     },
     "execution_count": 94,
     "metadata": {},
     "output_type": "execute_result"
    }
   ],
   "source": [
    "country = df_rank.groupby('Country')\n",
    "country.get_group('🇨🇭 Switzerland')"
   ]
  },
  {
   "cell_type": "code",
   "execution_count": 18,
   "metadata": {},
   "outputs": [
    {
     "data": {
      "text/html": [
       "<div>\n",
       "<style scoped>\n",
       "    .dataframe tbody tr th:only-of-type {\n",
       "        vertical-align: middle;\n",
       "    }\n",
       "\n",
       "    .dataframe tbody tr th {\n",
       "        vertical-align: top;\n",
       "    }\n",
       "\n",
       "    .dataframe thead th {\n",
       "        text-align: right;\n",
       "    }\n",
       "</style>\n",
       "<table border=\"1\" class=\"dataframe\">\n",
       "  <thead>\n",
       "    <tr style=\"text-align: right;\">\n",
       "      <th></th>\n",
       "      <th>Name</th>\n",
       "      <th>Today</th>\n",
       "      <th>Country</th>\n",
       "      <th>Market Cap(billion)</th>\n",
       "      <th>Price($)</th>\n",
       "      <th>Symbol</th>\n",
       "    </tr>\n",
       "    <tr>\n",
       "      <th>Rank</th>\n",
       "      <th></th>\n",
       "      <th></th>\n",
       "      <th></th>\n",
       "      <th></th>\n",
       "      <th></th>\n",
       "      <th></th>\n",
       "    </tr>\n",
       "  </thead>\n",
       "  <tbody>\n",
       "    <tr>\n",
       "      <td>41</td>\n",
       "      <td>Toyota</td>\n",
       "      <td>0.48%</td>\n",
       "      <td>🇯🇵 Japan</td>\n",
       "      <td>219.83</td>\n",
       "      <td>159.98</td>\n",
       "      <td>TM</td>\n",
       "    </tr>\n",
       "  </tbody>\n",
       "</table>\n",
       "</div>"
      ],
      "text/plain": [
       "        Name  Today   Country  Market Cap(billion) Price($) Symbol\n",
       "Rank                                                              \n",
       "41    Toyota  0.48%  🇯🇵 Japan               219.83   159.98     TM"
      ]
     },
     "execution_count": 18,
     "metadata": {},
     "output_type": "execute_result"
    }
   ],
   "source": [
    "df_rank.loc[df_rank['Country'] == '🇯🇵 Japan']"
   ]
  },
  {
   "cell_type": "code",
   "execution_count": 27,
   "metadata": {},
   "outputs": [
    {
     "data": {
      "text/html": [
       "<div>\n",
       "<style scoped>\n",
       "    .dataframe tbody tr th:only-of-type {\n",
       "        vertical-align: middle;\n",
       "    }\n",
       "\n",
       "    .dataframe tbody tr th {\n",
       "        vertical-align: top;\n",
       "    }\n",
       "\n",
       "    .dataframe thead th {\n",
       "        text-align: right;\n",
       "    }\n",
       "</style>\n",
       "<table border=\"1\" class=\"dataframe\">\n",
       "  <thead>\n",
       "    <tr style=\"text-align: right;\">\n",
       "      <th></th>\n",
       "      <th>Name</th>\n",
       "      <th>Today</th>\n",
       "      <th>Country</th>\n",
       "      <th>Market Cap(billion)</th>\n",
       "      <th>Price($)</th>\n",
       "      <th>Symbol</th>\n",
       "    </tr>\n",
       "    <tr>\n",
       "      <th>Rank</th>\n",
       "      <th></th>\n",
       "      <th></th>\n",
       "      <th></th>\n",
       "      <th></th>\n",
       "      <th></th>\n",
       "      <th></th>\n",
       "    </tr>\n",
       "  </thead>\n",
       "  <tbody>\n",
       "    <tr>\n",
       "      <td>1</td>\n",
       "      <td>Apple</td>\n",
       "      <td>2.54%</td>\n",
       "      <td>🇺🇸 USA</td>\n",
       "      <td>2415.00</td>\n",
       "      <td>149.24</td>\n",
       "      <td>AAPL</td>\n",
       "    </tr>\n",
       "    <tr>\n",
       "      <td>3</td>\n",
       "      <td>Microsoft</td>\n",
       "      <td>2.03%</td>\n",
       "      <td>🇺🇸 USA</td>\n",
       "      <td>1995.00</td>\n",
       "      <td>266.82</td>\n",
       "      <td>MSFT</td>\n",
       "    </tr>\n",
       "    <tr>\n",
       "      <td>4</td>\n",
       "      <td>Alphabet (Google)</td>\n",
       "      <td>1.66%</td>\n",
       "      <td>🇺🇸 USA</td>\n",
       "      <td>1534.00</td>\n",
       "      <td>2,334</td>\n",
       "      <td>GOOG</td>\n",
       "    </tr>\n",
       "    <tr>\n",
       "      <td>5</td>\n",
       "      <td>Amazon</td>\n",
       "      <td>4.11%</td>\n",
       "      <td>🇺🇸 USA</td>\n",
       "      <td>1173.00</td>\n",
       "      <td>2,307</td>\n",
       "      <td>AMZN</td>\n",
       "    </tr>\n",
       "    <tr>\n",
       "      <td>6</td>\n",
       "      <td>Tesla</td>\n",
       "      <td>5.14%</td>\n",
       "      <td>🇺🇸 USA</td>\n",
       "      <td>789.03</td>\n",
       "      <td>761.61</td>\n",
       "      <td>TSLA</td>\n",
       "    </tr>\n",
       "  </tbody>\n",
       "</table>\n",
       "</div>"
      ],
      "text/plain": [
       "                   Name  Today Country  Market Cap(billion) Price($) Symbol\n",
       "Rank                                                                       \n",
       "1                 Apple  2.54%  🇺🇸 USA              2415.00   149.24   AAPL\n",
       "3             Microsoft  2.03%  🇺🇸 USA              1995.00   266.82   MSFT\n",
       "4     Alphabet (Google)  1.66%  🇺🇸 USA              1534.00    2,334   GOOG\n",
       "5                Amazon  4.11%  🇺🇸 USA              1173.00    2,307   AMZN\n",
       "6                 Tesla  5.14%  🇺🇸 USA               789.03   761.61   TSLA"
      ]
     },
     "execution_count": 27,
     "metadata": {},
     "output_type": "execute_result"
    }
   ],
   "source": [
    "#pd.set_option('display.max_rows', None)\n",
    "df_usa = df_rank.loc[df_rank['Country'] == '🇺🇸 USA']\n",
    "sum(df_usa['Market Cap(billion)'])\n",
    "df_usa.head()"
   ]
  },
  {
   "cell_type": "code",
   "execution_count": 55,
   "metadata": {},
   "outputs": [
    {
     "data": {
      "text/html": [
       "<div>\n",
       "<style scoped>\n",
       "    .dataframe tbody tr th:only-of-type {\n",
       "        vertical-align: middle;\n",
       "    }\n",
       "\n",
       "    .dataframe tbody tr th {\n",
       "        vertical-align: top;\n",
       "    }\n",
       "\n",
       "    .dataframe thead th {\n",
       "        text-align: right;\n",
       "    }\n",
       "</style>\n",
       "<table border=\"1\" class=\"dataframe\">\n",
       "  <thead>\n",
       "    <tr style=\"text-align: right;\">\n",
       "      <th></th>\n",
       "      <th>Market Cap(billion)</th>\n",
       "    </tr>\n",
       "    <tr>\n",
       "      <th>Country</th>\n",
       "      <th></th>\n",
       "    </tr>\n",
       "  </thead>\n",
       "  <tbody>\n",
       "    <tr>\n",
       "      <td>🇺🇸 USA</td>\n",
       "      <td>21389.28</td>\n",
       "    </tr>\n",
       "    <tr>\n",
       "      <td>🇨🇳 China</td>\n",
       "      <td>2428.79</td>\n",
       "    </tr>\n",
       "    <tr>\n",
       "      <td>🇸🇦 S. Arabia</td>\n",
       "      <td>2413.00</td>\n",
       "    </tr>\n",
       "    <tr>\n",
       "      <td>🇨🇭 Switzerland</td>\n",
       "      <td>817.97</td>\n",
       "    </tr>\n",
       "    <tr>\n",
       "      <td>🇫🇷 France</td>\n",
       "      <td>765.84</td>\n",
       "    </tr>\n",
       "    <tr>\n",
       "      <td>🇬🇧 UK</td>\n",
       "      <td>709.20</td>\n",
       "    </tr>\n",
       "    <tr>\n",
       "      <td>🇹🇼 Taiwan</td>\n",
       "      <td>483.93</td>\n",
       "    </tr>\n",
       "    <tr>\n",
       "      <td>🇮🇳 India</td>\n",
       "      <td>385.80</td>\n",
       "    </tr>\n",
       "    <tr>\n",
       "      <td>🇳🇱 Netherlands</td>\n",
       "      <td>379.55</td>\n",
       "    </tr>\n",
       "    <tr>\n",
       "      <td>🇰🇷 S. Korea</td>\n",
       "      <td>360.15</td>\n",
       "    </tr>\n",
       "    <tr>\n",
       "      <td>🇦🇺 Australia</td>\n",
       "      <td>358.44</td>\n",
       "    </tr>\n",
       "    <tr>\n",
       "      <td>🇮🇪 Ireland</td>\n",
       "      <td>327.06</td>\n",
       "    </tr>\n",
       "    <tr>\n",
       "      <td>🇨🇦 Canada</td>\n",
       "      <td>273.52</td>\n",
       "    </tr>\n",
       "    <tr>\n",
       "      <td>🇩🇰 Denmark</td>\n",
       "      <td>244.08</td>\n",
       "    </tr>\n",
       "    <tr>\n",
       "      <td>🇯🇵 Japan</td>\n",
       "      <td>219.83</td>\n",
       "    </tr>\n",
       "    <tr>\n",
       "      <td>🇲🇽 Mexico</td>\n",
       "      <td>137.09</td>\n",
       "    </tr>\n",
       "  </tbody>\n",
       "</table>\n",
       "</div>"
      ],
      "text/plain": [
       "                Market Cap(billion)\n",
       "Country                            \n",
       "🇺🇸 USA                     21389.28\n",
       "🇨🇳 China                    2428.79\n",
       "🇸🇦 S. Arabia                2413.00\n",
       "🇨🇭 Switzerland               817.97\n",
       "🇫🇷 France                    765.84\n",
       "🇬🇧 UK                        709.20\n",
       "🇹🇼 Taiwan                    483.93\n",
       "🇮🇳 India                     385.80\n",
       "🇳🇱 Netherlands               379.55\n",
       "🇰🇷 S. Korea                  360.15\n",
       "🇦🇺 Australia                 358.44\n",
       "🇮🇪 Ireland                   327.06\n",
       "🇨🇦 Canada                    273.52\n",
       "🇩🇰 Denmark                   244.08\n",
       "🇯🇵 Japan                     219.83\n",
       "🇲🇽 Mexico                    137.09"
      ]
     },
     "execution_count": 55,
     "metadata": {},
     "output_type": "execute_result"
    }
   ],
   "source": [
    "df_market_sum = df_rank.groupby('Country').sum().sort_values('Market Cap(billion)', ascending = False)\n",
    "df_market_sum"
   ]
  },
  {
   "cell_type": "code",
   "execution_count": 104,
   "metadata": {},
   "outputs": [
    {
     "data": {
      "text/html": [
       "<div>\n",
       "<style scoped>\n",
       "    .dataframe tbody tr th:only-of-type {\n",
       "        vertical-align: middle;\n",
       "    }\n",
       "\n",
       "    .dataframe tbody tr th {\n",
       "        vertical-align: top;\n",
       "    }\n",
       "\n",
       "    .dataframe thead th {\n",
       "        text-align: right;\n",
       "    }\n",
       "</style>\n",
       "<table border=\"1\" class=\"dataframe\">\n",
       "  <thead>\n",
       "    <tr style=\"text-align: right;\">\n",
       "      <th></th>\n",
       "      <th>Country</th>\n",
       "      <th>count</th>\n",
       "    </tr>\n",
       "  </thead>\n",
       "  <tbody>\n",
       "    <tr>\n",
       "      <td>0</td>\n",
       "      <td>🇺🇸 USA</td>\n",
       "      <td>33</td>\n",
       "    </tr>\n",
       "    <tr>\n",
       "      <td>1</td>\n",
       "      <td>🇨🇳 China</td>\n",
       "      <td>4</td>\n",
       "    </tr>\n",
       "    <tr>\n",
       "      <td>2</td>\n",
       "      <td>🇨🇭 Switzerland</td>\n",
       "      <td>2</td>\n",
       "    </tr>\n",
       "    <tr>\n",
       "      <td>3</td>\n",
       "      <td>🇬🇧 UK</td>\n",
       "      <td>2</td>\n",
       "    </tr>\n",
       "    <tr>\n",
       "      <td>4</td>\n",
       "      <td>🇦🇺 Australia</td>\n",
       "      <td>1</td>\n",
       "    </tr>\n",
       "    <tr>\n",
       "      <td>5</td>\n",
       "      <td>🇩🇰 Denmark</td>\n",
       "      <td>1</td>\n",
       "    </tr>\n",
       "    <tr>\n",
       "      <td>6</td>\n",
       "      <td>🇫🇷 France</td>\n",
       "      <td>1</td>\n",
       "    </tr>\n",
       "    <tr>\n",
       "      <td>7</td>\n",
       "      <td>🇮🇳 India</td>\n",
       "      <td>1</td>\n",
       "    </tr>\n",
       "    <tr>\n",
       "      <td>8</td>\n",
       "      <td>🇯🇵 Japan</td>\n",
       "      <td>1</td>\n",
       "    </tr>\n",
       "    <tr>\n",
       "      <td>9</td>\n",
       "      <td>🇰🇷 S. Korea</td>\n",
       "      <td>1</td>\n",
       "    </tr>\n",
       "    <tr>\n",
       "      <td>10</td>\n",
       "      <td>🇳🇱 Netherlands</td>\n",
       "      <td>1</td>\n",
       "    </tr>\n",
       "    <tr>\n",
       "      <td>11</td>\n",
       "      <td>🇸🇦 S. Arabia</td>\n",
       "      <td>1</td>\n",
       "    </tr>\n",
       "    <tr>\n",
       "      <td>12</td>\n",
       "      <td>🇹🇼 Taiwan</td>\n",
       "      <td>1</td>\n",
       "    </tr>\n",
       "  </tbody>\n",
       "</table>\n",
       "</div>"
      ],
      "text/plain": [
       "           Country  count\n",
       "0           🇺🇸 USA     33\n",
       "1         🇨🇳 China      4\n",
       "2   🇨🇭 Switzerland      2\n",
       "3            🇬🇧 UK      2\n",
       "4     🇦🇺 Australia      1\n",
       "5       🇩🇰 Denmark      1\n",
       "6        🇫🇷 France      1\n",
       "7         🇮🇳 India      1\n",
       "8         🇯🇵 Japan      1\n",
       "9      🇰🇷 S. Korea      1\n",
       "10  🇳🇱 Netherlands      1\n",
       "11    🇸🇦 S. Arabia      1\n",
       "12       🇹🇼 Taiwan      1"
      ]
     },
     "execution_count": 104,
     "metadata": {},
     "output_type": "execute_result"
    }
   ],
   "source": [
    "country_100 = country_100.reset_index()"
   ]
  },
  {
   "cell_type": "code",
   "execution_count": 109,
   "metadata": {},
   "outputs": [
    {
     "ename": "ValueError",
     "evalue": "Could not interpret input 'Country'",
     "output_type": "error",
     "traceback": [
      "\u001b[1;31m---------------------------------------------------------------------------\u001b[0m",
      "\u001b[1;31mValueError\u001b[0m                                Traceback (most recent call last)",
      "\u001b[1;32m<ipython-input-109-245f92b32dd3>\u001b[0m in \u001b[0;36m<module>\u001b[1;34m\u001b[0m\n\u001b[0;32m     10\u001b[0m \u001b[1;31m# ], columns=['Students', 'Math'])\u001b[0m\u001b[1;33m\u001b[0m\u001b[1;33m\u001b[0m\u001b[1;33m\u001b[0m\u001b[0m\n\u001b[0;32m     11\u001b[0m \u001b[1;31m#ax = sns.barplot(x= 'count', y='Country', data=country_100)\u001b[0m\u001b[1;33m\u001b[0m\u001b[1;33m\u001b[0m\u001b[1;33m\u001b[0m\u001b[0m\n\u001b[1;32m---> 12\u001b[1;33m \u001b[0max\u001b[0m \u001b[1;33m=\u001b[0m \u001b[0msns\u001b[0m\u001b[1;33m.\u001b[0m\u001b[0mbarplot\u001b[0m\u001b[1;33m(\u001b[0m\u001b[0mx\u001b[0m\u001b[1;33m=\u001b[0m \u001b[1;34m'Country'\u001b[0m\u001b[1;33m,\u001b[0m \u001b[0my\u001b[0m\u001b[1;33m=\u001b[0m\u001b[1;34m'count'\u001b[0m\u001b[1;33m,\u001b[0m \u001b[0mdata\u001b[0m\u001b[1;33m=\u001b[0m\u001b[0mcountry_100\u001b[0m\u001b[1;33m)\u001b[0m\u001b[1;33m\u001b[0m\u001b[1;33m\u001b[0m\u001b[0m\n\u001b[0m\u001b[0;32m     13\u001b[0m \u001b[0max\u001b[0m\u001b[1;33m.\u001b[0m\u001b[0mset_title\u001b[0m\u001b[1;33m(\u001b[0m\u001b[1;34m'Final Term'\u001b[0m\u001b[1;33m)\u001b[0m\u001b[1;33m\u001b[0m\u001b[1;33m\u001b[0m\u001b[0m\n",
      "\u001b[1;32m~\\Anaconda3\\lib\\site-packages\\seaborn\\categorical.py\u001b[0m in \u001b[0;36mbarplot\u001b[1;34m(x, y, hue, data, order, hue_order, estimator, ci, n_boot, units, orient, color, palette, saturation, errcolor, errwidth, capsize, dodge, ax, **kwargs)\u001b[0m\n\u001b[0;32m   3147\u001b[0m                           \u001b[0mestimator\u001b[0m\u001b[1;33m,\u001b[0m \u001b[0mci\u001b[0m\u001b[1;33m,\u001b[0m \u001b[0mn_boot\u001b[0m\u001b[1;33m,\u001b[0m \u001b[0munits\u001b[0m\u001b[1;33m,\u001b[0m\u001b[1;33m\u001b[0m\u001b[1;33m\u001b[0m\u001b[0m\n\u001b[0;32m   3148\u001b[0m                           \u001b[0morient\u001b[0m\u001b[1;33m,\u001b[0m \u001b[0mcolor\u001b[0m\u001b[1;33m,\u001b[0m \u001b[0mpalette\u001b[0m\u001b[1;33m,\u001b[0m \u001b[0msaturation\u001b[0m\u001b[1;33m,\u001b[0m\u001b[1;33m\u001b[0m\u001b[1;33m\u001b[0m\u001b[0m\n\u001b[1;32m-> 3149\u001b[1;33m                           errcolor, errwidth, capsize, dodge)\n\u001b[0m\u001b[0;32m   3150\u001b[0m \u001b[1;33m\u001b[0m\u001b[0m\n\u001b[0;32m   3151\u001b[0m     \u001b[1;32mif\u001b[0m \u001b[0max\u001b[0m \u001b[1;32mis\u001b[0m \u001b[1;32mNone\u001b[0m\u001b[1;33m:\u001b[0m\u001b[1;33m\u001b[0m\u001b[1;33m\u001b[0m\u001b[0m\n",
      "\u001b[1;32m~\\Anaconda3\\lib\\site-packages\\seaborn\\categorical.py\u001b[0m in \u001b[0;36m__init__\u001b[1;34m(self, x, y, hue, data, order, hue_order, estimator, ci, n_boot, units, orient, color, palette, saturation, errcolor, errwidth, capsize, dodge)\u001b[0m\n\u001b[0;32m   1605\u001b[0m         \u001b[1;34m\"\"\"Initialize the plotter.\"\"\"\u001b[0m\u001b[1;33m\u001b[0m\u001b[1;33m\u001b[0m\u001b[0m\n\u001b[0;32m   1606\u001b[0m         self.establish_variables(x, y, hue, data, orient,\n\u001b[1;32m-> 1607\u001b[1;33m                                  order, hue_order, units)\n\u001b[0m\u001b[0;32m   1608\u001b[0m         \u001b[0mself\u001b[0m\u001b[1;33m.\u001b[0m\u001b[0mestablish_colors\u001b[0m\u001b[1;33m(\u001b[0m\u001b[0mcolor\u001b[0m\u001b[1;33m,\u001b[0m \u001b[0mpalette\u001b[0m\u001b[1;33m,\u001b[0m \u001b[0msaturation\u001b[0m\u001b[1;33m)\u001b[0m\u001b[1;33m\u001b[0m\u001b[1;33m\u001b[0m\u001b[0m\n\u001b[0;32m   1609\u001b[0m         \u001b[0mself\u001b[0m\u001b[1;33m.\u001b[0m\u001b[0mestimate_statistic\u001b[0m\u001b[1;33m(\u001b[0m\u001b[0mestimator\u001b[0m\u001b[1;33m,\u001b[0m \u001b[0mci\u001b[0m\u001b[1;33m,\u001b[0m \u001b[0mn_boot\u001b[0m\u001b[1;33m)\u001b[0m\u001b[1;33m\u001b[0m\u001b[1;33m\u001b[0m\u001b[0m\n",
      "\u001b[1;32m~\\Anaconda3\\lib\\site-packages\\seaborn\\categorical.py\u001b[0m in \u001b[0;36mestablish_variables\u001b[1;34m(self, x, y, hue, data, orient, order, hue_order, units)\u001b[0m\n\u001b[0;32m    153\u001b[0m                 \u001b[1;32mif\u001b[0m \u001b[0misinstance\u001b[0m\u001b[1;33m(\u001b[0m\u001b[0minput\u001b[0m\u001b[1;33m,\u001b[0m \u001b[0mstring_types\u001b[0m\u001b[1;33m)\u001b[0m\u001b[1;33m:\u001b[0m\u001b[1;33m\u001b[0m\u001b[1;33m\u001b[0m\u001b[0m\n\u001b[0;32m    154\u001b[0m                     \u001b[0merr\u001b[0m \u001b[1;33m=\u001b[0m \u001b[1;34m\"Could not interpret input '{}'\"\u001b[0m\u001b[1;33m.\u001b[0m\u001b[0mformat\u001b[0m\u001b[1;33m(\u001b[0m\u001b[0minput\u001b[0m\u001b[1;33m)\u001b[0m\u001b[1;33m\u001b[0m\u001b[1;33m\u001b[0m\u001b[0m\n\u001b[1;32m--> 155\u001b[1;33m                     \u001b[1;32mraise\u001b[0m \u001b[0mValueError\u001b[0m\u001b[1;33m(\u001b[0m\u001b[0merr\u001b[0m\u001b[1;33m)\u001b[0m\u001b[1;33m\u001b[0m\u001b[1;33m\u001b[0m\u001b[0m\n\u001b[0m\u001b[0;32m    156\u001b[0m \u001b[1;33m\u001b[0m\u001b[0m\n\u001b[0;32m    157\u001b[0m             \u001b[1;31m# Figure out the plotting orientation\u001b[0m\u001b[1;33m\u001b[0m\u001b[1;33m\u001b[0m\u001b[1;33m\u001b[0m\u001b[0m\n",
      "\u001b[1;31mValueError\u001b[0m: Could not interpret input 'Country'"
     ]
    }
   ],
   "source": [
    "import pandas as pd\n",
    "import seaborn as sns\n",
    "\n",
    "sns.set(rc={'figure.figsize':(15,9)})\n",
    "# df = pd.DataFrame([\n",
    "#     ['Jack', 78],\n",
    "#     ['Mary', 67],\n",
    "#     ['Mike', 90],\n",
    "#     ['David', 81],\n",
    "# ], columns=['Students', 'Math'])\n",
    "#ax = sns.barplot(x= 'count', y='Country', data=country_100)\n",
    "ax = sns.barplot(x= 'Country', y='count', data=country_100)\n",
    "ax.set_title('Final Term')"
   ]
  },
  {
   "cell_type": "code",
   "execution_count": 85,
   "metadata": {},
   "outputs": [
    {
     "data": {
      "text/plain": [
       "pandas.core.frame.DataFrame"
      ]
     },
     "execution_count": 85,
     "metadata": {},
     "output_type": "execute_result"
    }
   ],
   "source": [
    "speed = [0.1, 17.5, 40, 48, 52, 69, 88]\n",
    "lifespan = [2, 8, 70, 1.5, 25, 12, 28]\n",
    "index = ['snail', 'pig', 'elephant',\n",
    "         'rabbit', 'giraffe', 'coyote', 'horse']\n",
    "df = pd.DataFrame({'speed': speed,\n",
    "                   'lifespan': lifespan}, index=index)\n",
    "\n",
    "\n",
    "ax = df.plot.bar(rot=0)"
   ]
  },
  {
   "cell_type": "code",
   "execution_count": 79,
   "metadata": {},
   "outputs": [
    {
     "data": {
      "text/html": [
       "<div>\n",
       "<style scoped>\n",
       "    .dataframe tbody tr th:only-of-type {\n",
       "        vertical-align: middle;\n",
       "    }\n",
       "\n",
       "    .dataframe tbody tr th {\n",
       "        vertical-align: top;\n",
       "    }\n",
       "\n",
       "    .dataframe thead th {\n",
       "        text-align: right;\n",
       "    }\n",
       "</style>\n",
       "<table border=\"1\" class=\"dataframe\">\n",
       "  <thead>\n",
       "    <tr style=\"text-align: right;\">\n",
       "      <th></th>\n",
       "      <th>Students</th>\n",
       "      <th>Math</th>\n",
       "    </tr>\n",
       "  </thead>\n",
       "  <tbody>\n",
       "    <tr>\n",
       "      <td>0</td>\n",
       "      <td>Jack</td>\n",
       "      <td>78</td>\n",
       "    </tr>\n",
       "    <tr>\n",
       "      <td>1</td>\n",
       "      <td>Mary</td>\n",
       "      <td>67</td>\n",
       "    </tr>\n",
       "    <tr>\n",
       "      <td>2</td>\n",
       "      <td>Mike</td>\n",
       "      <td>90</td>\n",
       "    </tr>\n",
       "    <tr>\n",
       "      <td>3</td>\n",
       "      <td>David</td>\n",
       "      <td>81</td>\n",
       "    </tr>\n",
       "  </tbody>\n",
       "</table>\n",
       "</div>"
      ],
      "text/plain": [
       "  Students  Math\n",
       "0     Jack    78\n",
       "1     Mary    67\n",
       "2     Mike    90\n",
       "3    David    81"
      ]
     },
     "execution_count": 79,
     "metadata": {},
     "output_type": "execute_result"
    }
   ],
   "source": [
    "df"
   ]
  },
  {
   "cell_type": "code",
   "execution_count": 75,
   "metadata": {},
   "outputs": [
    {
     "data": {
      "image/png": "[encoded data removed]",
      "text/plain": [
       "<Figure size 432x288 with 1 Axes>"
      ]
     },
     "metadata": {
      "needs_background": "light"
     },
     "output_type": "display_data"
    }
   ],
   "source": [
    "from matplotlib import cm\n",
    "cmap = cm.jet(np.linspace(0, 1, len(students)))\n",
    "plt.barh(x, math_scores, color=cmap)\n",
    "plt.yticks(x, students)\n",
    "plt.ylabel('Students')\n",
    "plt.xlabel('Math')\n",
    "plt.title('Final Term')\n",
    "plt.show()"
   ]
  },
  {
   "cell_type": "code",
   "execution_count": null,
   "metadata": {},
   "outputs": [],
   "source": [
    "各國家數長條圖\n",
    "各國家數圓餅圖\n",
    "\n",
    "市值長條圖\n",
    "市值圓餅圖"
   ]
  },
  {
   "cell_type": "code",
   "execution_count": 114,
   "metadata": {},
   "outputs": [
    {
     "data": {
      "text/plain": [
       "Country\n",
       "🇦🇺 Australia       1\n",
       "🇨🇭 Switzerland     2\n",
       "🇨🇳 China           4\n",
       "🇩🇰 Denmark         1\n",
       "🇫🇷 France          1\n",
       "🇬🇧 UK              2\n",
       "🇮🇳 India           1\n",
       "🇯🇵 Japan           1\n",
       "🇰🇷 S. Korea        1\n",
       "🇳🇱 Netherlands     1\n",
       "🇸🇦 S. Arabia       1\n",
       "🇹🇼 Taiwan          1\n",
       "🇺🇸 USA            33\n",
       "dtype: int64"
      ]
     },
     "execution_count": 114,
     "metadata": {},
     "output_type": "execute_result"
    }
   ],
   "source": [
    "country = df.groupby('Country')\n",
    "country.size()\n",
    "\n",
    "by_country = country.count()\n",
    "by_country\n",
    "#.columns = ['count']\n",
    "\n",
    "country_100 = country.count().drop(columns = ['Today','Market Cap(billion)','Price($)','Symbol'])\n",
    "country_100.columns = ['count']\n",
    "country_100 = country_100.sort_values('count', ascending = False)\n",
    "ax = country_100.plot.bar(rot=45)"
   ]
  }
 ],
 "metadata": {
  "kernelspec": {
   "display_name": "Python 3",
   "language": "python",
   "name": "python3"
  },
  "language_info": {
   "codemirror_mode": {
    "name": "ipython",
    "version": 3
   },
   "file_extension": ".py",
   "mimetype": "text/x-python",
   "name": "python",
   "nbconvert_exporter": "python",
   "pygments_lexer": "ipython3",
   "version": "3.7.4"
  }
 },
 "nbformat": 4,
 "nbformat_minor": 2
}
